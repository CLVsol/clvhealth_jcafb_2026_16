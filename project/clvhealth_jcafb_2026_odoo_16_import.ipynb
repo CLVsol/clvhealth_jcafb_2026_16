{
 "cells": [
  {
   "cell_type": "markdown",
   "id": "6c6334b5-3564-46ce-8191-6337fc21a7b3",
   "metadata": {},
   "source": [
    "# Importação dos dados do Banco de Dados \"clvhealth_jcafb_2026_16\""
   ]
  },
  {
   "cell_type": "markdown",
   "id": "585952b2-0121-43d4-97fa-e768363f94be",
   "metadata": {},
   "source": [
    "## Leitura das Credenciais"
   ]
  },
  {
   "cell_type": "code",
   "execution_count": 1,
   "id": "a628c8b4-2643-4220-b1f3-cf4fac7ab548",
   "metadata": {},
   "outputs": [],
   "source": [
    "import pandas as pd\n",
    "\n",
    "hosts = pd.read_csv('data/host.csv', delimiter=';', index_col='name')\n",
    "def creds(index, col_name):\n",
    "    return hosts.at[index, col_name]\n",
    "\n",
    "# print(hosts)"
   ]
  },
  {
   "cell_type": "markdown",
   "id": "d0cf6d1e-5157-4c6b-9d5f-f4b502eb66df",
   "metadata": {},
   "source": [
    "## Parâmetros globais¶"
   ]
  },
  {
   "cell_type": "code",
   "execution_count": 2,
   "id": "47963960-c07b-4191-ad8b-8cc81f091c40",
   "metadata": {},
   "outputs": [],
   "source": [
    "import logging\n",
    "import sqlite3\n",
    "\n",
    "logging.basicConfig(level=logging.DEBUG)\n",
    "_logger = logging.getLogger(__name__)\n"
   ]
  },
  {
   "cell_type": "code",
   "execution_count": 3,
   "id": "4164df35-ed55-47f1-98cb-49291c3afc81",
   "metadata": {},
   "outputs": [],
   "source": [
    "from xmlrpc import client\n",
    "\n",
    "host_name = 'tkl-odoo16-jcafb26-vm'\n",
    "# host_name = 'clvheatlh-jcafb-2026-aws-tst'\n",
    "# SSLCertVerificationError: [SSL: CERTIFICATE_VERIFY_FAILED] certificate verify failed: self-signed certificate (_ssl.c:1000)\n",
    "\n",
    "server_url = creds(host_name, 'server')\n",
    "db_name = creds(host_name, 'dbname')\n",
    "username = creds(host_name, 'user')\n",
    "password = creds(host_name, 'user_pw')\n",
    "\n",
    "sqlite3_db_name = 'data/jcafb_2026_16.db'\n"
   ]
  },
  {
   "cell_type": "code",
   "execution_count": 4,
   "id": "0c6c7cee-92a4-485e-b4c7-f80d323a3758",
   "metadata": {},
   "outputs": [],
   "source": [
    "from clvsol_odoo16_jcafb26_lib import *"
   ]
  },
  {
   "cell_type": "code",
   "execution_count": 5,
   "id": "4fb95fc5-18b1-42be-9045-0ca10aa7a805",
   "metadata": {},
   "outputs": [],
   "source": [
    "from time import time\n",
    "from datetime import timedelta\n",
    "\n",
    "def secondsToStr(t):\n",
    "    return str(timedelta(seconds=t))\n",
    "\n",
    "start_import = time()\n"
   ]
  },
  {
   "cell_type": "markdown",
   "id": "317c509c-b4b1-4294-9c55-b412083c9f32",
   "metadata": {},
   "source": [
    "## Importação dos dados de \"res.country\""
   ]
  },
  {
   "cell_type": "code",
   "execution_count": 6,
   "id": "b64dfd5c-feb0-445c-8fb5-3af24ba5b917",
   "metadata": {},
   "outputs": [
    {
     "name": "stderr",
     "output_type": "stream",
     "text": [
      "INFO:clvsol_odoo16_jcafb26_lib.res_country:--> get_sqlite http://192.168.25.222:8069 clvhealth_jcafb_2026_16\n",
      "INFO:clvsol_odoo16_jcafb26_lib.res_country:--> Execution time: 0:00:01.651718 \n",
      "\n"
     ]
    }
   ],
   "source": [
    "res_country = res_country.get_sqlite(server_url, db_name, username, password, sqlite3_db_name, initialize=False)\n"
   ]
  },
  {
   "cell_type": "markdown",
   "id": "a754082c-f8a0-4f62-bd59-3e5c8b7492a3",
   "metadata": {},
   "source": [
    "## Importação dos dados de \"res.partner\""
   ]
  },
  {
   "cell_type": "code",
   "execution_count": 7,
   "id": "277a9779-e6c3-4082-9d21-c22001827c3e",
   "metadata": {},
   "outputs": [
    {
     "name": "stderr",
     "output_type": "stream",
     "text": [
      "INFO:clvsol_odoo16_jcafb26_lib.res_partner:--> get_sqlite http://192.168.25.222:8069 clvhealth_jcafb_2026_16\n",
      "INFO:clvsol_odoo16_jcafb26_lib.res_partner:--> Execution time: 0:00:01.968547 \n",
      "\n"
     ]
    }
   ],
   "source": [
    "res_partner = res_partner.get_sqlite(server_url, db_name, username, password, sqlite3_db_name, initialize=False)\n"
   ]
  },
  {
   "cell_type": "code",
   "execution_count": 8,
   "id": "14b2fff5-621b-4114-94f9-4eb6970122a6",
   "metadata": {},
   "outputs": [
    {
     "name": "stdout",
     "output_type": "stream",
     "text": [
      "--> Execution time: 0:00:03.691192 \n",
      "\n"
     ]
    }
   ],
   "source": [
    "print('--> Execution time:', secondsToStr(time() - start_import), '\\n')\n"
   ]
  }
 ],
 "metadata": {
  "kernelspec": {
   "display_name": "Python 3 (ipykernel)",
   "language": "python",
   "name": "python3"
  },
  "language_info": {
   "codemirror_mode": {
    "name": "ipython",
    "version": 3
   },
   "file_extension": ".py",
   "mimetype": "text/x-python",
   "name": "python",
   "nbconvert_exporter": "python",
   "pygments_lexer": "ipython3",
   "version": "3.12.2"
  }
 },
 "nbformat": 4,
 "nbformat_minor": 5
}
