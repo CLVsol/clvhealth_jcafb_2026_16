{
 "cells": [
  {
   "cell_type": "markdown",
   "id": "dd323e70-3086-4f6d-95d7-c012cc771bc7",
   "metadata": {},
   "source": [
    "# Criação/Manutenção do Banco de Dados \"clvsol_jcafb_2026_16\""
   ]
  },
  {
   "cell_type": "markdown",
   "id": "ed8315e7-dea9-4343-97a3-60e39ef3972b",
   "metadata": {},
   "source": [
    "## Leitura das Credenciais"
   ]
  },
  {
   "cell_type": "code",
   "execution_count": null,
   "id": "51145724-5049-4bf8-8fad-66e37454231c",
   "metadata": {},
   "outputs": [],
   "source": [
    "import pandas as pd\n",
    "\n",
    "hosts = pd.read_csv('data/host.csv', delimiter=';', index_col='name')\n",
    "def creds(index, col_name):\n",
    "    return hosts.at[index, col_name]\n",
    "\n",
    "# creds = lambda index, col_name : hosts.at[index, col_name]\n",
    "\n",
    "# print(hosts)"
   ]
  },
  {
   "cell_type": "markdown",
   "id": "091ee9c2-863c-48f5-a4bd-0e7f7fc3e73b",
   "metadata": {},
   "source": [
    "## Parâmetros globais"
   ]
  },
  {
   "cell_type": "code",
   "execution_count": null,
   "id": "69ede625-9262-487d-9b29-cc6abd4db414",
   "metadata": {},
   "outputs": [],
   "source": [
    "import logging\n",
    "\n",
    "logging.basicConfig(level=logging.DEBUG)\n",
    "_logger = logging.getLogger(__name__)\n"
   ]
  },
  {
   "cell_type": "code",
   "execution_count": null,
   "id": "ebcc0198-c3af-4922-9bc9-e18948d38b3b",
   "metadata": {},
   "outputs": [],
   "source": [
    "host_name = 'tkl-odoo16-vm-18'\n",
    "# host_name = 'tkl-odoo15-jcafb25-vm'\n",
    "# host_name = 'clvhealth_jcafb_2025-aws-tst'\n",
    "\n",
    "server = creds(host_name, 'server')\n",
    "master_pw = creds(host_name, 'master_pw')\n",
    "dbname = creds(host_name, 'dbname')\n",
    "user = creds(host_name, 'user')\n",
    "user_pw = creds(host_name, 'user_pw')\n",
    "user_apikey = creds(host_name, 'user_apikey')\n",
    "\n",
    "_logger.info('host_name: \"{0}\"'.format(host_name))\n",
    "\n",
    "# print(server_url)\n"
   ]
  },
  {
   "cell_type": "markdown",
   "id": "4c4b3711-96d8-48c4-93f7-7b506d246571",
   "metadata": {},
   "source": [
    "## Teste de conexão à Base de Dados"
   ]
  },
  {
   "cell_type": "code",
   "execution_count": null,
   "id": "7827f5c9-4428-4608-93b6-1e0dc3d42b4a",
   "metadata": {},
   "outputs": [],
   "source": [
    "# import erppeek\n",
    "# import xmlrpc.client as xmlrpclib\n",
    "\n",
    "# url = server\n",
    "# sock_common = xmlrpclib.ServerProxy('{}/xmlrpc/2/common'.format(url))\n",
    "# _logger.info('sock_common.version(): \"{0}\"'.format(sock_common.version()))\n",
    "\n",
    "# client = erppeek.Client(server=server)\n",
    "# _logger.info('Databases found: {0}'.format(client.db.list()))\n"
   ]
  },
  {
   "cell_type": "markdown",
   "id": "1fc27e2f-4e3e-43e8-85ca-b4c02fcf386e",
   "metadata": {},
   "source": [
    "## Criação/Manutenção do Banco de Dados \"clvhealth_jcafb_2026_16\""
   ]
  },
  {
   "cell_type": "code",
   "execution_count": null,
   "id": "b7360c2f-e47f-45bb-972a-f114416cfdbb",
   "metadata": {},
   "outputs": [],
   "source": [
    "from time import time\n",
    "from datetime import timedelta\n",
    "from clvhealth_jcafb import *\n",
    "\n",
    "modules_to_upgrade_list = ['clv_base']\n",
    "# modules_to_upgrade_list = ['survey', 'l10n_br_base', 'l10n_br_zip']\n",
    "\n",
    "def secondsToStr(t):\n",
    "    return str(timedelta(seconds=t))\n",
    "\n",
    "start = time()\n",
    "\n",
    "clvhealth = CLVhealthJCAFB(server=server,\n",
    "                           admin_user_pw=user_pw,\n",
    "                           super_user_pw=master_pw,\n",
    "                           dbname=dbname,\n",
    "                           modules_to_upgrade=modules_to_upgrade_list\n",
    "                          )\n",
    "\n",
    "# _logger.info('clvhealth_jcafb.server: {0}'.format(clvhealth.server))\n",
    "# _logger.info('clvhealth_jcafb.dbname: {0}'.format(clvhealth.dbname))\n",
    "# _logger.info('clvhealth_jcafb.db.server: {0}'.format(clvhealth.db.server))\n",
    "# _logger.info('clvhealth_jcafb.db.dbname: {0}'.format(clvhealth.db.dbname))\n",
    "\n",
    "print('--> Executing install()...\\n')\n",
    "\n",
    "clvhealth.install()\n",
    "\n",
    "print('\\n--> clvhealth.install()')\n",
    "print('--> Execution time:', secondsToStr(time() - start), '\\n')\n"
   ]
  },
  {
   "cell_type": "code",
   "execution_count": null,
   "id": "0db11e96-12b9-4ccf-950a-251e7a35ead3",
   "metadata": {},
   "outputs": [],
   "source": []
  }
 ],
 "metadata": {
  "kernelspec": {
   "display_name": "Python 3 (ipykernel)",
   "language": "python",
   "name": "python3"
  },
  "language_info": {
   "codemirror_mode": {
    "name": "ipython",
    "version": 3
   },
   "file_extension": ".py",
   "mimetype": "text/x-python",
   "name": "python",
   "nbconvert_exporter": "python",
   "pygments_lexer": "ipython3",
   "version": "3.12.2"
  }
 },
 "nbformat": 4,
 "nbformat_minor": 5
}
